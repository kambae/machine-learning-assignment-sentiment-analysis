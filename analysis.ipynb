{
 "cells": [
  {
   "cell_type": "code",
   "execution_count": 1,
   "id": "5c0494f9-f850-4926-a2ba-8cba66aa3956",
   "metadata": {
    "pycharm": {
     "name": "#%%\n"
    }
   },
   "outputs": [
    {
     "data": {
      "text/html": [
       "<div>\n",
       "<style scoped>\n",
       "    .dataframe tbody tr th:only-of-type {\n",
       "        vertical-align: middle;\n",
       "    }\n",
       "\n",
       "    .dataframe tbody tr th {\n",
       "        vertical-align: top;\n",
       "    }\n",
       "\n",
       "    .dataframe thead th {\n",
       "        text-align: right;\n",
       "    }\n",
       "</style>\n",
       "<table border=\"1\" class=\"dataframe\">\n",
       "  <thead>\n",
       "    <tr style=\"text-align: right;\">\n",
       "      <th></th>\n",
       "      <th>Unnamed: 0</th>\n",
       "      <th>id</th>\n",
       "      <th>text</th>\n",
       "      <th>sentiment</th>\n",
       "    </tr>\n",
       "  </thead>\n",
       "  <tbody>\n",
       "    <tr>\n",
       "      <th>0</th>\n",
       "      <td>2</td>\n",
       "      <td>805582613687713000</td>\n",
       "      <td>doctors hit campaign trail as race to medical...</td>\n",
       "      <td>neutral</td>\n",
       "    </tr>\n",
       "    <tr>\n",
       "      <th>1</th>\n",
       "      <td>3</td>\n",
       "      <td>637480203497832000</td>\n",
       "      <td>is anybody going to the radio station tomorro...</td>\n",
       "      <td>positive</td>\n",
       "    </tr>\n",
       "    <tr>\n",
       "      <th>2</th>\n",
       "      <td>4</td>\n",
       "      <td>641096279930507000</td>\n",
       "      <td>i just found out naruto didn't become the 5th...</td>\n",
       "      <td>neutral</td>\n",
       "    </tr>\n",
       "    <tr>\n",
       "      <th>3</th>\n",
       "      <td>5</td>\n",
       "      <td>625730917647126000</td>\n",
       "      <td>\"prince george reservist who died saturday ju...</td>\n",
       "      <td>neutral</td>\n",
       "    </tr>\n",
       "    <tr>\n",
       "      <th>4</th>\n",
       "      <td>6</td>\n",
       "      <td>633292370906230000</td>\n",
       "      <td>season in the sun versi nirvana rancak gak..s...</td>\n",
       "      <td>positive</td>\n",
       "    </tr>\n",
       "    <tr>\n",
       "      <th>...</th>\n",
       "      <td>...</td>\n",
       "      <td>...</td>\n",
       "      <td>...</td>\n",
       "      <td>...</td>\n",
       "    </tr>\n",
       "    <tr>\n",
       "      <th>21797</th>\n",
       "      <td>27896</td>\n",
       "      <td>805677750363095000</td>\n",
       "      <td>@hrtablaze the beginning of a dictatorship is ...</td>\n",
       "      <td>negative</td>\n",
       "    </tr>\n",
       "    <tr>\n",
       "      <th>21798</th>\n",
       "      <td>27897</td>\n",
       "      <td>637854813930196000</td>\n",
       "      <td>son idc anymore. i'm going by shawn tomorrow</td>\n",
       "      <td>neutral</td>\n",
       "    </tr>\n",
       "    <tr>\n",
       "      <th>21799</th>\n",
       "      <td>27898</td>\n",
       "      <td>802374277047656000</td>\n",
       "      <td>but remember the clinton foundation?? https://...</td>\n",
       "      <td>neutral</td>\n",
       "    </tr>\n",
       "    <tr>\n",
       "      <th>21800</th>\n",
       "      <td>27899</td>\n",
       "      <td>640441306494296000</td>\n",
       "      <td>press: \"r u worried murray dominated his 3rd r...</td>\n",
       "      <td>neutral</td>\n",
       "    </tr>\n",
       "    <tr>\n",
       "      <th>21801</th>\n",
       "      <td>27900</td>\n",
       "      <td>638666306015789000</td>\n",
       "      <td>@rinashah i have been using moto g 2nd gen for...</td>\n",
       "      <td>positive</td>\n",
       "    </tr>\n",
       "  </tbody>\n",
       "</table>\n",
       "<p>21802 rows × 4 columns</p>\n",
       "</div>"
      ],
      "text/plain": [
       "       Unnamed: 0                  id  \\\n",
       "0               2  805582613687713000   \n",
       "1               3  637480203497832000   \n",
       "2               4  641096279930507000   \n",
       "3               5  625730917647126000   \n",
       "4               6  633292370906230000   \n",
       "...           ...                 ...   \n",
       "21797       27896  805677750363095000   \n",
       "21798       27897  637854813930196000   \n",
       "21799       27898  802374277047656000   \n",
       "21800       27899  640441306494296000   \n",
       "21801       27900  638666306015789000   \n",
       "\n",
       "                                                    text sentiment  \n",
       "0       doctors hit campaign trail as race to medical...   neutral  \n",
       "1       is anybody going to the radio station tomorro...  positive  \n",
       "2       i just found out naruto didn't become the 5th...   neutral  \n",
       "3       \"prince george reservist who died saturday ju...   neutral  \n",
       "4       season in the sun versi nirvana rancak gak..s...  positive  \n",
       "...                                                  ...       ...  \n",
       "21797  @hrtablaze the beginning of a dictatorship is ...  negative  \n",
       "21798       son idc anymore. i'm going by shawn tomorrow   neutral  \n",
       "21799  but remember the clinton foundation?? https://...   neutral  \n",
       "21800  press: \"r u worried murray dominated his 3rd r...   neutral  \n",
       "21801  @rinashah i have been using moto g 2nd gen for...  positive  \n",
       "\n",
       "[21802 rows x 4 columns]"
      ]
     },
     "execution_count": 1,
     "metadata": {},
     "output_type": "execute_result"
    }
   ],
   "source": [
    "import numpy as np\n",
    "import pandas as pd\n",
    "import matplotlib.pyplot as plt\n",
    "\n",
    "data_path = \"data/Train.csv\"\n",
    "test_data_path = \"data/Test.csv\"\n",
    "\n",
    "data = pd.read_csv(data_path)\n",
    "train_data = pd.read_csv(test_data_path)\n",
    "\n",
    "data"
   ]
  },
  {
   "cell_type": "code",
   "execution_count": 38,
   "id": "bb2a0524-eebd-475f-b3ce-6efe0e688625",
   "metadata": {
    "pycharm": {
     "name": "#%%\n"
    }
   },
   "outputs": [
    {
     "data": {
      "text/plain": [
       "neutral     12659\n",
       "positive     5428\n",
       "negative     3715\n",
       "Name: sentiment, dtype: int64"
      ]
     },
     "execution_count": 38,
     "metadata": {},
     "output_type": "execute_result"
    }
   ],
   "source": [
    "data[\"sentiment\"].value_counts()"
   ]
  },
  {
   "cell_type": "code",
   "execution_count": 58,
   "id": "01d2b6ad-4b7c-46f9-b10d-47f64d7aabb3",
   "metadata": {
    "pycharm": {
     "name": "#%%\n"
    }
   },
   "outputs": [
    {
     "data": {
      "text/html": [
       "<div>\n",
       "<style scoped>\n",
       "    .dataframe tbody tr th:only-of-type {\n",
       "        vertical-align: middle;\n",
       "    }\n",
       "\n",
       "    .dataframe tbody tr th {\n",
       "        vertical-align: top;\n",
       "    }\n",
       "\n",
       "    .dataframe thead th {\n",
       "        text-align: right;\n",
       "    }\n",
       "</style>\n",
       "<table border=\"1\" class=\"dataframe\">\n",
       "  <thead>\n",
       "    <tr style=\"text-align: right;\">\n",
       "      <th></th>\n",
       "      <th>Unnamed: 0</th>\n",
       "      <th>id</th>\n",
       "      <th>text</th>\n",
       "      <th>sentiment</th>\n",
       "      <th>lengths</th>\n",
       "    </tr>\n",
       "  </thead>\n",
       "  <tbody>\n",
       "    <tr>\n",
       "      <th>19727</th>\n",
       "      <td>25151</td>\n",
       "      <td>805651182035169000</td>\n",
       "      <td>for a long time no one considered the effect o...</td>\n",
       "      <td>negative</td>\n",
       "      <td>450</td>\n",
       "    </tr>\n",
       "    <tr>\n",
       "      <th>20485</th>\n",
       "      <td>26178</td>\n",
       "      <td>802384778607689000</td>\n",
       "      <td>green party presidential candidate jill stein ...</td>\n",
       "      <td>neutral</td>\n",
       "      <td>364</td>\n",
       "    </tr>\n",
       "  </tbody>\n",
       "</table>\n",
       "</div>"
      ],
      "text/plain": [
       "       Unnamed: 0                  id  \\\n",
       "19727       25151  805651182035169000   \n",
       "20485       26178  802384778607689000   \n",
       "\n",
       "                                                    text sentiment  lengths  \n",
       "19727  for a long time no one considered the effect o...  negative      450  \n",
       "20485  green party presidential candidate jill stein ...   neutral      364  "
      ]
     },
     "execution_count": 58,
     "metadata": {},
     "output_type": "execute_result"
    },
    {
     "data": {
      "image/png": "[encoded data removed]",
      "text/plain": [
       "<Figure size 432x288 with 1 Axes>"
      ]
     },
     "metadata": {
      "needs_background": "light"
     },
     "output_type": "display_data"
    }
   ],
   "source": [
    "lengths = data[\"text\"].apply(len)\n",
    "plt.hist(lengths.values)\n",
    "newdata = data.drop(np.argmax(lengths.values))\n",
    "\n",
    "newdata[\"lengths\"] = newdata[\"text\"].apply(len)\n",
    "newdata[newdata[\"lengths\"] > 256]"
   ]
  },
  {
   "cell_type": "code",
   "execution_count": 45,
   "id": "85612de4-f5c7-491b-9abc-5df0db1b0655",
   "metadata": {
    "pycharm": {
     "name": "#%%\n"
    }
   },
   "outputs": [
    {
     "data": {
      "text/plain": [
       "450"
      ]
     },
     "execution_count": 45,
     "metadata": {},
     "output_type": "execute_result"
    },
    {
     "data": {
      "image/png": "[encoded data removed]",
      "text/plain": [
       "<Figure size 432x288 with 1 Axes>"
      ]
     },
     "metadata": {
      "needs_background": "light"
     },
     "output_type": "display_data"
    }
   ],
   "source": [
    "lengths = newdata[\"text\"].apply(len)\n",
    "plt.hist(lengths.values)\n",
    "max(lengths.values)\n",
    "\n"
   ]
  },
  {
   "cell_type": "code",
   "execution_count": 1,
   "id": "110ff751-9de0-4e9b-bdae-bee041df815b",
   "metadata": {
    "pycharm": {
     "name": "#%%\n"
    }
   },
   "outputs": [],
   "source": [
    "from transformers import AutoModel, AutoTokenizer\n",
    "from datasets import load_dataset\n",
    "import torch\n",
    "from torch import nn"
   ]
  },
  {
   "cell_type": "code",
   "execution_count": 2,
   "id": "2d3344d7-709d-4017-b519-abb98f9cde4b",
   "metadata": {
    "pycharm": {
     "name": "#%%\n"
    }
   },
   "outputs": [
    {
     "name": "stderr",
     "output_type": "stream",
     "text": [
      "Some weights of the model checkpoint at vinai/bertweet-base were not used when initializing RobertaModel: ['lm_head.layer_norm.weight', 'lm_head.dense.bias', 'lm_head.decoder.bias', 'lm_head.layer_norm.bias', 'lm_head.bias', 'lm_head.decoder.weight', 'lm_head.dense.weight']\n",
      "- This IS expected if you are initializing RobertaModel from the checkpoint of a model trained on another task or with another architecture (e.g. initializing a BertForSequenceClassification model from a BertForPreTraining model).\n",
      "- This IS NOT expected if you are initializing RobertaModel from the checkpoint of a model that you expect to be exactly identical (initializing a BertForSequenceClassification model from a BertForSequenceClassification model).\n",
      "Special tokens have been added in the vocabulary, make sure the associated word embeddings are fine-tuned or trained.\n",
      "Using custom data configuration default-9bf19e0c32f05296\n",
      "Reusing dataset csv (C:\\Users\\Saurabh\\.cache\\huggingface\\datasets\\csv\\default-9bf19e0c32f05296\\0.0.0\\433e0ccc46f9880962cc2b12065189766fbb2bee57a221866138fb9203c83519)\n"
     ]
    },
    {
     "data": {
      "application/vnd.jupyter.widget-view+json": {
       "model_id": "fd1b629575df4848bddb1d06a81b3003",
       "version_major": 2,
       "version_minor": 0
      },
      "text/plain": [
       "  0%|          | 0/1 [00:00<?, ?it/s]"
      ]
     },
     "metadata": {},
     "output_type": "display_data"
    }
   ],
   "source": [
    "bertweet = AutoModel.from_pretrained(\"vinai/bertweet-base\")\n",
    "tokenizer = AutoTokenizer.from_pretrained(\"vinai/bertweet-base\", use_fast=False, normalization=True)\n",
    "dataset = load_dataset(\"csv\", data_files={\"train\": \"data/Train.csv\"},  encoding=\"ISO-8859-1\")"
   ]
  },
  {
   "cell_type": "code",
   "execution_count": 51,
   "id": "b964fe3d-0d8a-4262-8b8b-601e372b8445",
   "metadata": {
    "pycharm": {
     "name": "#%%\n"
    }
   },
   "outputs": [
    {
     "data": {
      "text/plain": [
       "torch.Size([16, 128])"
      ]
     },
     "execution_count": 51,
     "metadata": {},
     "output_type": "execute_result"
    }
   ],
   "source": [
    "inputs = tokenizer([item[\"text\"] for item in dataset[\"train\"]][:16], padding=\"max_length\", truncation=True, max_length=128, return_tensors='pt')\n",
    "inputs[\"input_ids\"].size()\n"
   ]
  },
  {
   "cell_type": "code",
   "execution_count": 45,
   "id": "5ef43343-a4ec-4232-b39c-5f34c24d95d2",
   "metadata": {
    "pycharm": {
     "name": "#%%\n"
    }
   },
   "outputs": [
    {
     "data": {
      "text/plain": [
       "21802"
      ]
     },
     "execution_count": 45,
     "metadata": {},
     "output_type": "execute_result"
    }
   ],
   "source": []
  },
  {
   "cell_type": "code",
   "execution_count": 52,
   "id": "94123aec-9354-4c0c-b4a8-35b02c231af8",
   "metadata": {
    "pycharm": {
     "name": "#%%\n"
    }
   },
   "outputs": [
    {
     "data": {
      "text/plain": [
       "torch.Size([16, 128, 768])"
      ]
     },
     "execution_count": 52,
     "metadata": {},
     "output_type": "execute_result"
    }
   ],
   "source": [
    "with torch.no_grad():\n",
    "    features = bertweet(input_ids=inputs[\"input_ids\"], attention_mask=inputs[\"attention_mask\"])\n",
    "\n",
    "features[\"last_hidden_state\"].size()\n"
   ]
  },
  {
   "cell_type": "code",
   "execution_count": 59,
   "id": "6295c156-adc1-45a2-adaf-27470a27ee45",
   "metadata": {
    "pycharm": {
     "name": "#%%\n"
    }
   },
   "outputs": [],
   "source": [
    "from sklearn.model_selection import StratifiedKFold\n",
    "\n",
    "splitter = StratifiedKFold(n_splits=5, shuffle=True)\n",
    "splits = []\n",
    "for train_id, test_id in splitter.split(dataset[\"train\"][\"text\"], dataset[\"train\"][\"sentiment\"]):\n",
    "    splits.append((train_id, test_id))"
   ]
  },
  {
   "cell_type": "code",
   "execution_count": 64,
   "id": "87dad604-fc83-44da-955c-2e4786841882",
   "metadata": {
    "pycharm": {
     "name": "#%%\n"
    }
   },
   "outputs": [
    {
     "data": {
      "text/plain": [
       "4361"
      ]
     },
     "execution_count": 64,
     "metadata": {},
     "output_type": "execute_result"
    }
   ],
   "source": [
    "len(splits[1][1])\n"
   ]
  },
  {
   "cell_type": "code",
   "execution_count": 20,
   "id": "093bffff-1617-4fdf-9330-df4525a42d6f",
   "metadata": {},
   "outputs": [],
   "source": [
    "extra_data_path = \"data/extra_data/training.1600000.processed.noemoticon.csv\"\n",
    "extra_data = pd.read_csv(extra_data_path, names=[\"sentiment\", \"id\", \"datetime\", \"query\", \"user\", \"text\"], encoding='latin-1')"
   ]
  },
  {
   "cell_type": "code",
   "execution_count": 44,
   "id": "ddd5c44f-70d2-4b4a-ab39-35df6bd8ead9",
   "metadata": {},
   "outputs": [],
   "source": [
    "def augment_dataset(data, extra_data):\n",
    "    nmax = data[\"sentiment\"].value_counts().max()\n",
    "    lst = [data]\n",
    "    for class_index, group in data.groupby(\"sentiment\"):\n",
    "        if nmax > len(group):\n",
    "            lst.append(extra_data[extra_data[\"sentiment\"] == class_index][[\"id\", \"text\", \"sentiment\"]].sample(nmax - len(group), replace=True))\n",
    "    return pd.concat(lst, ignore_index=True)\n"
   ]
  },
  {
   "cell_type": "code",
   "execution_count": 45,
   "id": "b1d76976-5653-438e-8fe8-1b0af922a75b",
   "metadata": {},
   "outputs": [
    {
     "data": {
      "text/html": [
       "<div>\n",
       "<style scoped>\n",
       "    .dataframe tbody tr th:only-of-type {\n",
       "        vertical-align: middle;\n",
       "    }\n",
       "\n",
       "    .dataframe tbody tr th {\n",
       "        vertical-align: top;\n",
       "    }\n",
       "\n",
       "    .dataframe thead th {\n",
       "        text-align: right;\n",
       "    }\n",
       "</style>\n",
       "<table border=\"1\" class=\"dataframe\">\n",
       "  <thead>\n",
       "    <tr style=\"text-align: right;\">\n",
       "      <th></th>\n",
       "      <th>Unnamed: 0</th>\n",
       "      <th>id</th>\n",
       "      <th>text</th>\n",
       "      <th>sentiment</th>\n",
       "    </tr>\n",
       "  </thead>\n",
       "  <tbody>\n",
       "    <tr>\n",
       "      <th>0</th>\n",
       "      <td>2.0</td>\n",
       "      <td>805582613687713000</td>\n",
       "      <td>doctors hit campaign trail as race to medical...</td>\n",
       "      <td>neutral</td>\n",
       "    </tr>\n",
       "    <tr>\n",
       "      <th>1</th>\n",
       "      <td>3.0</td>\n",
       "      <td>637480203497832000</td>\n",
       "      <td>is anybody going to the radio station tomorro...</td>\n",
       "      <td>positive</td>\n",
       "    </tr>\n",
       "    <tr>\n",
       "      <th>2</th>\n",
       "      <td>4.0</td>\n",
       "      <td>641096279930507000</td>\n",
       "      <td>i just found out naruto didn't become the 5th...</td>\n",
       "      <td>neutral</td>\n",
       "    </tr>\n",
       "    <tr>\n",
       "      <th>3</th>\n",
       "      <td>5.0</td>\n",
       "      <td>625730917647126000</td>\n",
       "      <td>\"prince george reservist who died saturday ju...</td>\n",
       "      <td>neutral</td>\n",
       "    </tr>\n",
       "    <tr>\n",
       "      <th>4</th>\n",
       "      <td>6.0</td>\n",
       "      <td>633292370906230000</td>\n",
       "      <td>season in the sun versi nirvana rancak gak..s...</td>\n",
       "      <td>positive</td>\n",
       "    </tr>\n",
       "    <tr>\n",
       "      <th>...</th>\n",
       "      <td>...</td>\n",
       "      <td>...</td>\n",
       "      <td>...</td>\n",
       "      <td>...</td>\n",
       "    </tr>\n",
       "    <tr>\n",
       "      <th>37972</th>\n",
       "      <td>NaN</td>\n",
       "      <td>2193576427</td>\n",
       "      <td>@AndrewDearling *yawns*</td>\n",
       "      <td>positive</td>\n",
       "    </tr>\n",
       "    <tr>\n",
       "      <th>37973</th>\n",
       "      <td>NaN</td>\n",
       "      <td>1966617104</td>\n",
       "      <td>GOOOO LAKKKERRSSS! This game will prove who th...</td>\n",
       "      <td>positive</td>\n",
       "    </tr>\n",
       "    <tr>\n",
       "      <th>37974</th>\n",
       "      <td>NaN</td>\n",
       "      <td>1958076433</td>\n",
       "      <td>@anakiro Ooh, shiny</td>\n",
       "      <td>positive</td>\n",
       "    </tr>\n",
       "    <tr>\n",
       "      <th>37975</th>\n",
       "      <td>NaN</td>\n",
       "      <td>1983068317</td>\n",
       "      <td>Downstairs reading for class...</td>\n",
       "      <td>positive</td>\n",
       "    </tr>\n",
       "    <tr>\n",
       "      <th>37976</th>\n",
       "      <td>NaN</td>\n",
       "      <td>2018040966</td>\n",
       "      <td>listening to demi lovato dont forget, the best...</td>\n",
       "      <td>positive</td>\n",
       "    </tr>\n",
       "  </tbody>\n",
       "</table>\n",
       "<p>37977 rows × 4 columns</p>\n",
       "</div>"
      ],
      "text/plain": [
       "       Unnamed: 0                  id  \\\n",
       "0             2.0  805582613687713000   \n",
       "1             3.0  637480203497832000   \n",
       "2             4.0  641096279930507000   \n",
       "3             5.0  625730917647126000   \n",
       "4             6.0  633292370906230000   \n",
       "...           ...                 ...   \n",
       "37972         NaN          2193576427   \n",
       "37973         NaN          1966617104   \n",
       "37974         NaN          1958076433   \n",
       "37975         NaN          1983068317   \n",
       "37976         NaN          2018040966   \n",
       "\n",
       "                                                    text sentiment  \n",
       "0       doctors hit campaign trail as race to medical...   neutral  \n",
       "1       is anybody going to the radio station tomorro...  positive  \n",
       "2       i just found out naruto didn't become the 5th...   neutral  \n",
       "3       \"prince george reservist who died saturday ju...   neutral  \n",
       "4       season in the sun versi nirvana rancak gak..s...  positive  \n",
       "...                                                  ...       ...  \n",
       "37972                           @AndrewDearling *yawns*   positive  \n",
       "37973  GOOOO LAKKKERRSSS! This game will prove who th...  positive  \n",
       "37974                               @anakiro Ooh, shiny   positive  \n",
       "37975                   Downstairs reading for class...   positive  \n",
       "37976  listening to demi lovato dont forget, the best...  positive  \n",
       "\n",
       "[37977 rows x 4 columns]"
      ]
     },
     "execution_count": 45,
     "metadata": {},
     "output_type": "execute_result"
    }
   ],
   "source": [
    "augment_dataset(data, extra_data)"
   ]
  },
  {
   "cell_type": "code",
   "execution_count": 46,
   "id": "0e9c36c4-a1c3-4cae-baa9-317738d09eee",
   "metadata": {
    "pycharm": {
     "name": "#%%\n"
    }
   },
   "outputs": [
    {
     "data": {
      "text/html": [
       "<div>\n",
       "<style scoped>\n",
       "    .dataframe tbody tr th:only-of-type {\n",
       "        vertical-align: middle;\n",
       "    }\n",
       "\n",
       "    .dataframe tbody tr th {\n",
       "        vertical-align: top;\n",
       "    }\n",
       "\n",
       "    .dataframe thead th {\n",
       "        text-align: right;\n",
       "    }\n",
       "</style>\n",
       "<table border=\"1\" class=\"dataframe\">\n",
       "  <thead>\n",
       "    <tr style=\"text-align: right;\">\n",
       "      <th></th>\n",
       "      <th>id</th>\n",
       "      <th>text</th>\n",
       "      <th>sentiment</th>\n",
       "    </tr>\n",
       "  </thead>\n",
       "  <tbody>\n",
       "    <tr>\n",
       "      <th>0</th>\n",
       "      <td>1467810369</td>\n",
       "      <td>@switchfoot http://twitpic.com/2y1zl - Awww, t...</td>\n",
       "      <td>negative</td>\n",
       "    </tr>\n",
       "    <tr>\n",
       "      <th>1</th>\n",
       "      <td>1467810672</td>\n",
       "      <td>is upset that he can't update his Facebook by ...</td>\n",
       "      <td>negative</td>\n",
       "    </tr>\n",
       "    <tr>\n",
       "      <th>2</th>\n",
       "      <td>1467810917</td>\n",
       "      <td>@Kenichan I dived many times for the ball. Man...</td>\n",
       "      <td>negative</td>\n",
       "    </tr>\n",
       "    <tr>\n",
       "      <th>3</th>\n",
       "      <td>1467811184</td>\n",
       "      <td>my whole body feels itchy and like its on fire</td>\n",
       "      <td>negative</td>\n",
       "    </tr>\n",
       "    <tr>\n",
       "      <th>4</th>\n",
       "      <td>1467811193</td>\n",
       "      <td>@nationwideclass no, it's not behaving at all....</td>\n",
       "      <td>negative</td>\n",
       "    </tr>\n",
       "    <tr>\n",
       "      <th>...</th>\n",
       "      <td>...</td>\n",
       "      <td>...</td>\n",
       "      <td>...</td>\n",
       "    </tr>\n",
       "    <tr>\n",
       "      <th>799995</th>\n",
       "      <td>2329205009</td>\n",
       "      <td>Sick  Spending my day laying in bed listening ...</td>\n",
       "      <td>negative</td>\n",
       "    </tr>\n",
       "    <tr>\n",
       "      <th>799996</th>\n",
       "      <td>2329205038</td>\n",
       "      <td>Gmail is down?</td>\n",
       "      <td>negative</td>\n",
       "    </tr>\n",
       "    <tr>\n",
       "      <th>799997</th>\n",
       "      <td>2329205473</td>\n",
       "      <td>rest in peace Farrah! So sad</td>\n",
       "      <td>negative</td>\n",
       "    </tr>\n",
       "    <tr>\n",
       "      <th>799998</th>\n",
       "      <td>2329205574</td>\n",
       "      <td>@Eric_Urbane Sounds like a rival is flagging y...</td>\n",
       "      <td>negative</td>\n",
       "    </tr>\n",
       "    <tr>\n",
       "      <th>799999</th>\n",
       "      <td>2329205794</td>\n",
       "      <td>has to resit exams over summer...  wishes he w...</td>\n",
       "      <td>negative</td>\n",
       "    </tr>\n",
       "  </tbody>\n",
       "</table>\n",
       "<p>800000 rows × 3 columns</p>\n",
       "</div>"
      ],
      "text/plain": [
       "                id                                               text  \\\n",
       "0       1467810369  @switchfoot http://twitpic.com/2y1zl - Awww, t...   \n",
       "1       1467810672  is upset that he can't update his Facebook by ...   \n",
       "2       1467810917  @Kenichan I dived many times for the ball. Man...   \n",
       "3       1467811184    my whole body feels itchy and like its on fire    \n",
       "4       1467811193  @nationwideclass no, it's not behaving at all....   \n",
       "...            ...                                                ...   \n",
       "799995  2329205009  Sick  Spending my day laying in bed listening ...   \n",
       "799996  2329205038                                    Gmail is down?    \n",
       "799997  2329205473                      rest in peace Farrah! So sad    \n",
       "799998  2329205574  @Eric_Urbane Sounds like a rival is flagging y...   \n",
       "799999  2329205794  has to resit exams over summer...  wishes he w...   \n",
       "\n",
       "       sentiment  \n",
       "0       negative  \n",
       "1       negative  \n",
       "2       negative  \n",
       "3       negative  \n",
       "4       negative  \n",
       "...          ...  \n",
       "799995  negative  \n",
       "799996  negative  \n",
       "799997  negative  \n",
       "799998  negative  \n",
       "799999  negative  \n",
       "\n",
       "[800000 rows x 3 columns]"
      ]
     },
     "execution_count": 46,
     "metadata": {},
     "output_type": "execute_result"
    }
   ],
   "source": [
    "extra_data[extra_data[\"sentiment\"] == \"negative\"][[\"id\", \"text\", \"sentiment\"]]"
   ]
  },
  {
   "cell_type": "code",
   "execution_count": 6,
   "id": "cdd4a879-9fbe-4df9-a0b0-804457231f21",
   "metadata": {},
   "outputs": [],
   "source": [
    "datasets = [[], []]\n",
    "\n",
    "for class_index, group in data.groupby(\"sentiment\"):\n",
    "    x = data[data[\"sentiment\"] == class_index]\n",
    "    datasets[0].append(x[:int(len(x)/2)])\n",
    "    datasets[1].append(x[int(len(x)/2):])"
   ]
  },
  {
   "cell_type": "code",
   "execution_count": 10,
   "id": "615f3ad2-8668-45c4-ba25-b319f619c873",
   "metadata": {},
   "outputs": [],
   "source": [
    "dataset1 = pd.concat(datasets[0], ignore_index=True)\n",
    "dataset2 = pd.concat(datasets[1], ignore_index=True)"
   ]
  },
  {
   "cell_type": "code",
   "execution_count": 13,
   "id": "6f2e51dd-3293-4170-93ef-e260a29842de",
   "metadata": {},
   "outputs": [
    {
     "data": {
      "text/html": [
       "<div>\n",
       "<style scoped>\n",
       "    .dataframe tbody tr th:only-of-type {\n",
       "        vertical-align: middle;\n",
       "    }\n",
       "\n",
       "    .dataframe tbody tr th {\n",
       "        vertical-align: top;\n",
       "    }\n",
       "\n",
       "    .dataframe thead th {\n",
       "        text-align: right;\n",
       "    }\n",
       "</style>\n",
       "<table border=\"1\" class=\"dataframe\">\n",
       "  <thead>\n",
       "    <tr style=\"text-align: right;\">\n",
       "      <th></th>\n",
       "      <th>Unnamed: 0</th>\n",
       "      <th>id</th>\n",
       "      <th>text</th>\n",
       "      <th>sentiment</th>\n",
       "    </tr>\n",
       "  </thead>\n",
       "  <tbody>\n",
       "    <tr>\n",
       "      <th>0</th>\n",
       "      <td>12903</td>\n",
       "      <td>626749317378932000</td>\n",
       "      <td>\"this weekend on the fair &amp;amp; balanced netw...</td>\n",
       "      <td>negative</td>\n",
       "    </tr>\n",
       "    <tr>\n",
       "      <th>1</th>\n",
       "      <td>12904</td>\n",
       "      <td>802422052246302000</td>\n",
       "      <td>and so privatisation takes root, and begins t...</td>\n",
       "      <td>negative</td>\n",
       "    </tr>\n",
       "    <tr>\n",
       "      <th>2</th>\n",
       "      <td>12908</td>\n",
       "      <td>805663478656561000</td>\n",
       "      <td>@steezyevelyn @tomilahren she is one of the d...</td>\n",
       "      <td>negative</td>\n",
       "    </tr>\n",
       "    <tr>\n",
       "      <th>3</th>\n",
       "      <td>12914</td>\n",
       "      <td>802350309548781000</td>\n",
       "      <td>same vomit he was spitting 3 weeks ago-it's l...</td>\n",
       "      <td>negative</td>\n",
       "    </tr>\n",
       "    <tr>\n",
       "      <th>4</th>\n",
       "      <td>12940</td>\n",
       "      <td>669094996260229000</td>\n",
       "      <td>rip chris hemsworth's killer bod may he get t...</td>\n",
       "      <td>negative</td>\n",
       "    </tr>\n",
       "    <tr>\n",
       "      <th>...</th>\n",
       "      <td>...</td>\n",
       "      <td>...</td>\n",
       "      <td>...</td>\n",
       "      <td>...</td>\n",
       "    </tr>\n",
       "    <tr>\n",
       "      <th>10897</th>\n",
       "      <td>27888</td>\n",
       "      <td>632961670877343000</td>\n",
       "      <td>last minute but does anyone want to go to sam ...</td>\n",
       "      <td>positive</td>\n",
       "    </tr>\n",
       "    <tr>\n",
       "      <th>10898</th>\n",
       "      <td>27892</td>\n",
       "      <td>640568795887742000</td>\n",
       "      <td>going to a red sox game tomorrow even though i...</td>\n",
       "      <td>positive</td>\n",
       "    </tr>\n",
       "    <tr>\n",
       "      <th>10899</th>\n",
       "      <td>27894</td>\n",
       "      <td>801040426052434000</td>\n",
       "      <td>tonight on @fallontonight cape 2017 guest @sea...</td>\n",
       "      <td>positive</td>\n",
       "    </tr>\n",
       "    <tr>\n",
       "      <th>10900</th>\n",
       "      <td>27895</td>\n",
       "      <td>623094820433608000</td>\n",
       "      <td>paul dunne is tied for 1st at the open and he'...</td>\n",
       "      <td>positive</td>\n",
       "    </tr>\n",
       "    <tr>\n",
       "      <th>10901</th>\n",
       "      <td>27900</td>\n",
       "      <td>638666306015789000</td>\n",
       "      <td>@rinashah i have been using moto g 2nd gen for...</td>\n",
       "      <td>positive</td>\n",
       "    </tr>\n",
       "  </tbody>\n",
       "</table>\n",
       "<p>10902 rows × 4 columns</p>\n",
       "</div>"
      ],
      "text/plain": [
       "       Unnamed: 0                  id  \\\n",
       "0           12903  626749317378932000   \n",
       "1           12904  802422052246302000   \n",
       "2           12908  805663478656561000   \n",
       "3           12914  802350309548781000   \n",
       "4           12940  669094996260229000   \n",
       "...           ...                 ...   \n",
       "10897       27888  632961670877343000   \n",
       "10898       27892  640568795887742000   \n",
       "10899       27894  801040426052434000   \n",
       "10900       27895  623094820433608000   \n",
       "10901       27900  638666306015789000   \n",
       "\n",
       "                                                    text sentiment  \n",
       "0       \"this weekend on the fair &amp; balanced netw...  negative  \n",
       "1       and so privatisation takes root, and begins t...  negative  \n",
       "2       @steezyevelyn @tomilahren she is one of the d...  negative  \n",
       "3       same vomit he was spitting 3 weeks ago-it's l...  negative  \n",
       "4       rip chris hemsworth's killer bod may he get t...  negative  \n",
       "...                                                  ...       ...  \n",
       "10897  last minute but does anyone want to go to sam ...  positive  \n",
       "10898  going to a red sox game tomorrow even though i...  positive  \n",
       "10899  tonight on @fallontonight cape 2017 guest @sea...  positive  \n",
       "10900  paul dunne is tied for 1st at the open and he'...  positive  \n",
       "10901  @rinashah i have been using moto g 2nd gen for...  positive  \n",
       "\n",
       "[10902 rows x 4 columns]"
      ]
     },
     "execution_count": 13,
     "metadata": {},
     "output_type": "execute_result"
    }
   ],
   "source": [
    "dataset2"
   ]
  }
 ],
 "metadata": {
  "kernelspec": {
   "display_name": "Python 3 (ipykernel)",
   "language": "python",
   "name": "python3"
  },
  "language_info": {
   "codemirror_mode": {
    "name": "ipython",
    "version": 3
   },
   "file_extension": ".py",
   "mimetype": "text/x-python",
   "name": "python",
   "nbconvert_exporter": "python",
   "pygments_lexer": "ipython3",
   "version": "3.9.12"
  }
 },
 "nbformat": 4,
 "nbformat_minor": 5
}
